{
 "cells": [
  {
   "cell_type": "markdown",
   "id": "198b6013-8c22-43f9-9383-d179d2c8693d",
   "metadata": {},
   "source": [
    "# A Sentiment Analysis on Trending Hashtags and Its Related Content during the COVID-19 Pandemic"
   ]
  },
  {
   "cell_type": "markdown",
   "id": "575f89e9-decd-4f1f-a4df-9665c036ad6a",
   "metadata": {},
   "source": [
    "#### Introduction\n",
    "- ***Focus***: Sentiment analysis of trending hashtags and their respective videos on TikTok during the COVID-19 pandemic.\n",
    "- ***Importance***: Social media's rise means that it is increasingly becoming a communication tool for various aspects of life. One of the ways we saw this was during the pandemic, where it played a crucial role in public health communication, especially during quarantine and remote adaptation.\n",
    "- ***Objective***: Analyze how public health-related messages are emotionally received by the public, particularly younger demographics, as they constitute the largest customer base of social media platforms such as TikTok."
   ]
  },
  {
   "cell_type": "markdown",
   "id": "b6339c17-d0fe-4e33-bc2a-dae4e688176c",
   "metadata": {},
   "source": [
    "#### Research Question\n",
    "“What do trending hashtags on TikTok reveal about public sentiment towards public health messages during the COVID-19 pandemic?”"
   ]
  },
  {
   "attachments": {},
   "cell_type": "markdown",
   "id": "26ea0453-08f5-4b03-b3a5-567b9d94c799",
   "metadata": {},
   "source": [
    "## TikTok by the Numbers \n",
    "\n",
    "- ***How many people use TikTok globally?***\n",
    "    - \"The number of users on TikTok is anticipated to rise by 6.7% in 2024, to surpass 2 billion.\"\n",
    "    - \"TikTok rose to popularity in 2020, reaching a [peak](https://www.statista.com/statistics/1377008/tiktok-worldwide-downloads-quarterly/) of approximately 313.5 million downloads during the first quarter of the year. The popular social media platform is forecasted to reach approximately 2.35 billion users in 2029.\"\n",
    "    - ![Global Statistics of TikTok Users from 2018 to 2029](assets/statista-Number-of-TikTok-users-worldwide-from-2018-to-2029.jpg)\n",
    "\n",
    " \n",
    "- ***TikTok Age Demographics***\n",
    "    - In 2024, 18 to 24 year olds make up 36.2% of TikTok users, and 25 to 24 year olds make up 33.9%.\n",
    "    - More than 2/3 of TikTok users are between 18 and 34 years old.\n",
    "    - ![Age Demographics of TikTok from 2024](assets/TikTok-users-by-age-2024.jpg)\n",
    "\n",
    " \n",
    "- ***An Increase of Using TikTok as \"News\" Source***\n",
    "    - \"A small but growing share of U.S. adults say they regularly get news on TikTok... In just three years, the share of U.S. adults who say they regularly get news from TikTok has more than quadrupled, from 3% in 2020 to 14% in 2023.\"(4)\n",
    "    - ![TikToks being used as a news source, statistics by age group over the years](assets/tiktok-as-news-source.jpg)\n",
    "\n",
    "\n",
    "\n",
    "- ***Why are we focusing on TikTok and not other social media platforms?***\n",
    "    - TikTok is increasingly being used as a primary platform for younger demographics, making it an ideal case study for analyzing the emotional reception of public health-related messages among this key audience. \"This is in contrast with many other social media sites, where news consumption has either declined or stayed about the same in recent years.\" (4)\n",
    "    - ![TikTok Increasingly being used over other social media platforms](assets/news-on-tiktok-vs-others.jpg)\n",
    "\n",
    "\n",
    "\n",
    "- Source Links: [1](https://www.statista.com/forecasts/1142687/tiktok-users-worldwide), [2](https://www.statista.com/statistics/1377008/tiktok-worldwide-downloads-quarterly/), [3](https://www.oberlo.com/statistics/tiktok-age-demographics), [4](https://www.pewresearch.org/short-reads/2023/11/15/more-americans-are-getting-news-on-tiktok-bucking-the-trend-seen-on-most-other-social-media-sites/)"
   ]
  },
  {
   "cell_type": "markdown",
   "id": "b0276046-9f2b-4fcb-9874-c060147b7742",
   "metadata": {},
   "source": [
    "## Defining the Project Scope\n",
    "### Time Period Selection\n",
    "- Time Period: March 2020 to December 2020\n",
    "- Reasoning:\n",
    "    - **March 2020**: The World Health Organization declared COVID-19 a global pandemic on March 11, 2020. This period marks the beginning of widespread awareness and significant changes in public behavior and communication patterns.\n",
    "        - [Source Link](https://www.cdc.gov/museum/timeline/covid19.html#:~:text=March%2011%2C%202020,declares%20COVID%2D19%20a%20pandemic.)\n",
    "    - **December 2020**: By the end of 2020, various key events had taken place, including the approval of the first vaccines (Pfizer-BioNTech and Moderna) in December.\n",
    "        - [Source Link](https://www.mayoclinic.org/diseases-conditions/history-disease-outbreaks-vaccine-timeline/covid-19#:~:text=The%20FDA%20gives,since%20December%202020.)\n",
    "  \n",
    "I chose these months because this period captures the initial pandemic response, lockdowns, social distancing measures, and the beginning of vaccine distribution\n",
    "\n",
    "### Hashtag Selection\n",
    "- Hashtags:\n",
    "    - **#COVID19**: Broadly covers all content related to COVID-19, ensuring a wide array of public health messages.\n",
    "    - **#Coronavirus**: Similar to #COVID19 but may capture different audiences or slightly different content.\n",
    "    - **#Pandemic**: Encompasses the broader impact and responses to the pandemic beyond just the virus itself.\n",
    "    - **#StayHome**: Reflects public health messaging around lockdowns and staying indoors to prevent the spread.\n",
    "    - **#WearAMask**: Focuses on mask-wearing, which was a crucial public health directive during the pandemic.\n",
    "    - **#SocialDistancing**: A term that became commonly used during the pandemic to maintain physical distance in an effort to reduce transmissions.\n",
    "    - **#FlattenTheCurve**: Represents early efforts to reduce the infection rate to manageable levels.\n",
    "    - **#Vaccine**: Includes general information and sentiment about vaccines during the pandemic.\n",
    "    - **#Pfizer**: Specific to the Pfizer-BioNTech vaccine, capturing public sentiment around this particular vaccine.\n",
    "    - **#Moderna**: Specific to the Moderna vaccine, similarly capturing public sentiment about this vaccine."
   ]
  },
  {
   "cell_type": "markdown",
   "id": "29424f24-41da-42f9-bbdc-7385dd861feb",
   "metadata": {},
   "source": [
    "## Data Collection\n",
    "### Research and Sentiment Analysis Tools, Libraries, and Techniques\n",
    "- **Apify**: a webscraping and automation platform used for extracting data from websites\n",
    "    - [TikTok Hashtags Scraper](https://apify.com/clockworks/tiktok-hashtag-scraper)\n",
    "    - [TikTok Comments Scraper](https://apify.com/clockworks/tiktok-comments-scraper)\n",
    "      \n",
    "- **BERT**: (Bidirectional Encoder Representations from Transformers)\n",
    "    - was going to use this, but changed to vader\n",
    "   \n",
    "- **VADER** (Valence Aware Dictionary and Sentiment Reasoner): a rule-based sentiment analysis tool that uses a dictionary of words and rules to determine the sentiment of a text; typically used for analyzing social media texts\n",
    "    - use this to classify comments as \"positive\" or \"negative\"\n",
    "    - *Why Vader?* VADER is optimized for social media and short text, therefore making it well-suited for analyzing TikTok comments -- which tend to be short and informal. Additionally, Vader is trained to understand slang and emojis, another typical feature of TikTok comments.\n",
    "\n",
    "### Method\n",
    "- TikTok Scraper: search videos by hasthag, filter for 2020 dates, get comments, run sentiment analysis on comments to determine the average percentage of comments that were positive/good or negative/bad.\n",
    "    - For a more in-depth look at what it can do, visit this [link](https://apify.com/clockworks/tiktok-scraper).\n",
    " \n",
    "### Visualization\n",
    "- Pie Chart\n",
    "- Bar Graph\n",
    "- word cloud of typical words that are used in bad comments versus good comments --> may need to tokenize comments"
   ]
  },
  {
   "cell_type": "markdown",
   "id": "b2801c7e-c85d-446e-ae06-fbd7a036ec4c",
   "metadata": {},
   "source": [
    "*Initial pl*\n",
    "1) initial plan: start with one hashtage, retrieve 200 videos from that\n",
    "2) for each video, retrieve all the comments\n",
    "4) pass the comments into a sentiment alaysis o rank as eith psitive neutral or bad\n",
    "5) have a pie chart that has the percatnegae of the goof, neutral, bad classification of that hashtag\n"
   ]
  },
  {
   "cell_type": "markdown",
   "id": "efdf75ed-1a9b-472d-99b4-82ae1c31d422",
   "metadata": {},
   "source": [
    "Discuss limitations of project\n",
    "- this is very initial stages of being able to dunesrtand which a imted data set due to constraints of the free account, however, i ecnoruage this to be used more extensively, to analysze patterns and to uncove what kinds of methods and emssageing gets across more effectively to younger demographiscs."
   ]
  },
  {
   "cell_type": "code",
   "execution_count": null,
   "id": "9b1513b2-3579-49bd-acd6-914971e487be",
   "metadata": {},
   "outputs": [],
   "source": []
  }
 ],
 "metadata": {
  "kernelspec": {
   "display_name": "Python 3 (ipykernel)",
   "language": "python",
   "name": "python3"
  },
  "language_info": {
   "codemirror_mode": {
    "name": "ipython",
    "version": 3
   },
   "file_extension": ".py",
   "mimetype": "text/x-python",
   "name": "python",
   "nbconvert_exporter": "python",
   "pygments_lexer": "ipython3",
   "version": "3.11.7"
  }
 },
 "nbformat": 4,
 "nbformat_minor": 5
}
